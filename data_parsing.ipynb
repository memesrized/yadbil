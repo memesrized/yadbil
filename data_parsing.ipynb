{
 "cells": [
  {
   "cell_type": "code",
   "execution_count": null,
   "metadata": {},
   "outputs": [],
   "source": [
    "import json\n",
    "\n",
    "from src.data import keep_only_text_posts, parse_telegram_message\n",
    "from src.data_utils import print_md\n",
    "from src.graph import (\n",
    "    create_graph,\n",
    "    filter_edges_by_threshold,\n",
    "    find_similar_posts_pagerank,\n",
    "    get_graph_plot,\n",
    "    scale_edge_weights,\n",
    ")\n",
    "from src.processing import calculate_idf, preprocess_text"
   ]
  },
  {
   "cell_type": "code",
   "execution_count": null,
   "metadata": {},
   "outputs": [],
   "source": [
    "INPUT_DATA = \"data/result.json\"\n",
    "\n",
    "GRAPH_FILE_PATH = \"data/filtered_graph.graphml\"\n",
    "POSTS_FILE_PATH = \"data/posts.json\"\n",
    "POSTS_VIEW_FILE_PATH = \"data/posts_view.json\""
   ]
  },
  {
   "cell_type": "markdown",
   "metadata": {},
   "source": [
    "Data processing"
   ]
  },
  {
   "cell_type": "code",
   "execution_count": null,
   "metadata": {},
   "outputs": [],
   "source": [
    "with open(INPUT_DATA) as file:\n",
    "    data = json.load(file)\n",
    "    print(\"all:\", len(data['messages']))\n",
    "\n",
    "data = keep_only_text_posts(data)\n",
    "print(\"with text:\", len(data))\n",
    "\n",
    "# extract all useful information in all useful formats\n",
    "posts = [parse_telegram_message(m) for m in data]\n",
    "\n",
    "# extract words and normalize them\n",
    "posts = [{**d, **preprocess_text(d['text_no_links'])} for d in posts]\n",
    "\n",
    "# channel_id -> post_id -> post\n",
    "posts_view = {\n",
    "    chn: {post[\"id\"]: post for post in posts if post[\"from_id\"] == chn}\n",
    "    for chn in set([post[\"from_id\"] for post in posts])\n",
    "}"
   ]
  },
  {
   "cell_type": "markdown",
   "metadata": {},
   "source": [
    "Graph preparation"
   ]
  },
  {
   "cell_type": "code",
   "execution_count": null,
   "metadata": {},
   "outputs": [],
   "source": [
    "idf_scores = calculate_idf(posts, min_max_scale=True)\n",
    "\n",
    "G = create_graph(posts, idf_scores)\n",
    "\n",
    "print(f\"Number of nodes: {G.number_of_nodes()}\")\n",
    "print(f\"Number of edges: {G.number_of_edges()}\")"
   ]
  },
  {
   "cell_type": "markdown",
   "metadata": {},
   "source": [
    "Filter graph"
   ]
  },
  {
   "cell_type": "code",
   "execution_count": null,
   "metadata": {},
   "outputs": [],
   "source": [
    "G = scale_edge_weights(G)\n",
    "\n",
    "print(\"Full graph:\", len(G.edges))\n",
    "G_filtered = filter_edges_by_threshold(G, threshold=0.4)\n",
    "print(\"Filtered graph:\", len(G_filtered.edges))"
   ]
  },
  {
   "cell_type": "markdown",
   "metadata": {},
   "source": [
    "Testing"
   ]
  },
  {
   "cell_type": "markdown",
   "metadata": {},
   "source": [
    "Visualization"
   ]
  },
  {
   "cell_type": "code",
   "execution_count": null,
   "metadata": {},
   "outputs": [],
   "source": [
    "fig = get_graph_plot(G_filtered, idf_scores)\n",
    "fig.show()"
   ]
  },
  {
   "cell_type": "code",
   "execution_count": null,
   "metadata": {},
   "outputs": [],
   "source": [
    "# Example usage\n",
    "post_id = 2759  # Replace with the desired post ID\n",
    "top_n = 5  # Replace with the desired number of top similar posts\n",
    "\n",
    "similar_posts = find_similar_posts_pagerank(G_filtered, post_id, top_n)\n",
    "\n",
    "print(f\"Top {top_n} similar posts to post {post_id}:\")\n",
    "for post, score in similar_posts:\n",
    "    print(f\"Post ID: {post}, Similarity Score: {score:.4f}\")"
   ]
  },
  {
   "cell_type": "code",
   "execution_count": null,
   "metadata": {},
   "outputs": [],
   "source": [
    "# Example: Accessing edge weights\n",
    "for u, v, data in G_filtered.edges(552, data=True):\n",
    "    weight = data.get('weight', 0)  # Defaulting to 0 if weight not present\n",
    "    print(f\"Edge from {u} to {v} with weight: {weight}\")"
   ]
  },
  {
   "cell_type": "code",
   "execution_count": null,
   "metadata": {},
   "outputs": [],
   "source": [
    "# TODO: improve comparison\n",
    "\n",
    "# a = set(posts_view[\"channel1150855655\"][545]['stemmed_words'])\n",
    "# b = set(posts_view[\"channel1150855655\"][905]['stemmed_words'])\n",
    "\n",
    "# print(posts_view[\"channel1150855655\"][700]['text'])\n",
    "\n",
    "# a.intersection(b)\n",
    "# G_filtered.nodes[545]"
   ]
  },
  {
   "cell_type": "markdown",
   "metadata": {},
   "source": [
    "Save"
   ]
  },
  {
   "cell_type": "code",
   "execution_count": null,
   "metadata": {},
   "outputs": [],
   "source": [
    "import json\n",
    "import networkx as nx\n",
    "\n",
    "G_converted = G_filtered.copy()\n",
    "\n",
    "for node, attrs in G_converted.nodes(data=True):\n",
    "    for attr_key, attr_value in attrs.items():\n",
    "        attrs[attr_key] = json.dumps(attr_value)\n",
    "\n",
    "nx.write_graphml(G_converted, GRAPH_FILE_PATH)"
   ]
  },
  {
   "cell_type": "code",
   "execution_count": null,
   "metadata": {},
   "outputs": [],
   "source": [
    "with open(POSTS_FILE_PATH, \"w\") as file:\n",
    "    json.dump(posts, file, indent=4, ensure_ascii=False)\n",
    "\n",
    "with open(POSTS_VIEW_FILE_PATH, \"w\") as file:\n",
    "    json.dump(posts_view, file, indent=4, ensure_ascii=False)"
   ]
  },
  {
   "cell_type": "markdown",
   "metadata": {},
   "source": [
    "Check loading\n",
    "\n",
    "NOTE: keys from dict from int transform into str after loading"
   ]
  },
  {
   "cell_type": "code",
   "execution_count": null,
   "metadata": {},
   "outputs": [],
   "source": [
    "import networkx as nx\n",
    "\n",
    "GRAPH_FILE_PATH = \"data/filtered_graph.graphml\"\n",
    "POSTS_FILE_PATH = \"data/posts.json\"\n",
    "POSTS_VIEW_FILE_PATH = \"data/posts_view.json\"\n",
    "\n",
    "\n",
    "def load_resources():\n",
    "    # Load the graph\n",
    "    G = nx.read_graphml(GRAPH_FILE_PATH)\n",
    "    \n",
    "    # Convert node attributes back from JSON strings\n",
    "    for node, attrs in G.nodes(data=True):\n",
    "        for attr_key, attr_value in attrs.items():\n",
    "            try:\n",
    "                # Attempt to load the attribute value from JSON string\n",
    "                attrs[attr_key] = json.loads(attr_value)\n",
    "            except json.JSONDecodeError:\n",
    "                # In case the value is not a JSON string, keep it as is\n",
    "                pass\n",
    "\n",
    "    # Assuming loading posts and posts_view as before\n",
    "    with open(POSTS_FILE_PATH) as f:\n",
    "        posts = json.load(f)\n",
    "    with open(POSTS_VIEW_FILE_PATH) as f:\n",
    "        posts_view = json.load(f)\n",
    "    \n",
    "    return G, posts, posts_view\n",
    "\n",
    "G_filtered_2, posts_2, posts_view_2 = load_resources()"
   ]
  },
  {
   "cell_type": "code",
   "execution_count": null,
   "metadata": {},
   "outputs": [],
   "source": [
    "G_filtered_2 == G_filtered"
   ]
  },
  {
   "cell_type": "code",
   "execution_count": null,
   "metadata": {},
   "outputs": [],
   "source": [
    "len(G_filtered_2), len(G_filtered)"
   ]
  },
  {
   "cell_type": "code",
   "execution_count": null,
   "metadata": {},
   "outputs": [],
   "source": [
    "len(G_filtered_2.edges), len(G_filtered.edges)"
   ]
  },
  {
   "cell_type": "code",
   "execution_count": null,
   "metadata": {},
   "outputs": [],
   "source": [
    "list(posts_view.values())[0][65]"
   ]
  },
  {
   "cell_type": "code",
   "execution_count": null,
   "metadata": {},
   "outputs": [],
   "source": [
    "list(posts_view_2.values())[0][\"65\"]"
   ]
  },
  {
   "cell_type": "code",
   "execution_count": null,
   "metadata": {},
   "outputs": [],
   "source": [
    "# Example usage\n",
    "post_id = 545  # Replace with the desired post ID\n",
    "top_n = 10  # Replace with the desired number of top similar posts\n",
    "\n",
    "similar_posts = find_similar_posts_pagerank(G_filtered_2, str(post_id), top_n)\n",
    "\n",
    "print(f\"Top {top_n} similar posts to post {post_id}:\")\n",
    "for post, score in similar_posts:\n",
    "    print(f\"Post ID: {post}, Similarity Score: {score:.4f}\")"
   ]
  }
 ],
 "metadata": {
  "kernelspec": {
   "display_name": "wot",
   "language": "python",
   "name": "python3"
  },
  "language_info": {
   "codemirror_mode": {
    "name": "ipython",
    "version": 3
   },
   "file_extension": ".py",
   "mimetype": "text/x-python",
   "name": "python",
   "nbconvert_exporter": "python",
   "pygments_lexer": "ipython3",
   "version": "3.9.18"
  }
 },
 "nbformat": 4,
 "nbformat_minor": 2
}
