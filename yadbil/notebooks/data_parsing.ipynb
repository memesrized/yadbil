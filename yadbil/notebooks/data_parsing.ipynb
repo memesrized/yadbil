{
 "cells": [
  {
   "cell_type": "code",
   "execution_count": 1,
   "metadata": {},
   "outputs": [
    {
     "name": "stderr",
     "output_type": "stream",
     "text": [
      "[nltk_data] Downloading package punkt to\n",
      "[nltk_data]     /Users/Vasilii_Salikov/nltk_data...\n",
      "[nltk_data]   Package punkt is already up-to-date!\n",
      "[nltk_data] Downloading package stopwords to\n",
      "[nltk_data]     /Users/Vasilii_Salikov/nltk_data...\n",
      "[nltk_data]   Package stopwords is already up-to-date!\n"
     ]
    }
   ],
   "source": [
    "from yadbil.data.telegram import TelegramDataProcessor\n",
    "from yadbil.data.processing import calculate_idf\n",
    "\n",
    "from yadbil.data.utils import print_md\n",
    "from yadbil.graph import find_similar_posts_pagerank, get_graph_plot, GraphProcessor"
   ]
  },
  {
   "cell_type": "code",
   "execution_count": null,
   "metadata": {},
   "outputs": [],
   "source": [
    "INPUT_DATA = \"data/result.json\"\n",
    "\n",
    "GRAPH_FILE_PATH = \"data/filtered_graph.graphml\"\n",
    "POSTS_FILE_PATH = \"data/posts.json\"\n",
    "POSTS_VIEW_FILE_PATH = \"data/posts_view.json\""
   ]
  },
  {
   "cell_type": "markdown",
   "metadata": {},
   "source": [
    "Data processing"
   ]
  },
  {
   "cell_type": "code",
   "execution_count": null,
   "metadata": {},
   "outputs": [],
   "source": [
    "tg_data_proc = TelegramDataProcessor(INPUT_DATA).process_posts()\n",
    "posts = tg_data_proc.posts\n",
    "posts_view = tg_data_proc.posts_view\n",
    "\n",
    "idf_scores = calculate_idf(posts, min_max_scale=True)"
   ]
  },
  {
   "cell_type": "markdown",
   "metadata": {},
   "source": [
    "Graph preparation"
   ]
  },
  {
   "cell_type": "code",
   "execution_count": null,
   "metadata": {},
   "outputs": [],
   "source": [
    "graph_proc = GraphProcessor(posts, idf_scores)\n",
    "\n",
    "print(f\"Number of nodes: {graph_proc.G.number_of_nodes()}\")\n",
    "print(f\"Number of edges: {graph_proc.G.number_of_edges()}\")"
   ]
  },
  {
   "cell_type": "markdown",
   "metadata": {},
   "source": [
    "Filter graph"
   ]
  },
  {
   "cell_type": "code",
   "execution_count": null,
   "metadata": {},
   "outputs": [],
   "source": [
    "print(\"Full graph:\", len(graph_proc.G.edges))\n",
    "graph_proc.scale_edge_weights()\n",
    "G_filtered = graph_proc.filter_edges_by_threshold(threshold=0.4)\n",
    "print(\"Filtered graph:\", len(G_filtered.edges))"
   ]
  },
  {
   "cell_type": "markdown",
   "metadata": {},
   "source": [
    "Testing"
   ]
  },
  {
   "cell_type": "markdown",
   "metadata": {},
   "source": [
    "Visualization"
   ]
  },
  {
   "cell_type": "code",
   "execution_count": null,
   "metadata": {},
   "outputs": [],
   "source": [
    "fig = get_graph_plot(G_filtered, idf_scores)\n",
    "fig.show()"
   ]
  },
  {
   "cell_type": "code",
   "execution_count": null,
   "metadata": {},
   "outputs": [],
   "source": [
    "# Example usage\n",
    "post_id = 2759  # Replace with the desired post ID\n",
    "top_n = 5  # Replace with the desired number of top similar posts\n",
    "\n",
    "similar_posts = find_similar_posts_pagerank(G_filtered, post_id, top_n)\n",
    "\n",
    "print(f\"Top {top_n} similar posts to post {post_id}:\")\n",
    "for post, score in similar_posts:\n",
    "    print(f\"Post ID: {post}, Similarity Score: {score:.4f}\")"
   ]
  },
  {
   "cell_type": "code",
   "execution_count": null,
   "metadata": {},
   "outputs": [],
   "source": [
    "# Example: Accessing edge weights\n",
    "for u, v, data in G_filtered.edges(552, data=True):\n",
    "    weight = data.get('weight', 0)  # Defaulting to 0 if weight not present\n",
    "    print(f\"Edge from {u} to {v} with weight: {weight}\")"
   ]
  },
  {
   "cell_type": "code",
   "execution_count": null,
   "metadata": {},
   "outputs": [],
   "source": [
    "# TODO: improve comparison\n",
    "\n",
    "# a = set(posts_view[\"channel1150855655\"][545]['stemmed_words'])\n",
    "# b = set(posts_view[\"channel1150855655\"][905]['stemmed_words'])\n",
    "\n",
    "# print(posts_view[\"channel1150855655\"][700]['text'])\n",
    "\n",
    "# a.intersection(b)\n",
    "# G_filtered.nodes[545]"
   ]
  },
  {
   "cell_type": "markdown",
   "metadata": {},
   "source": [
    "Save"
   ]
  },
  {
   "cell_type": "code",
   "execution_count": null,
   "metadata": {},
   "outputs": [],
   "source": [
    "import json\n",
    "import networkx as nx\n",
    "\n",
    "G_converted = G_filtered.copy()\n",
    "\n",
    "for node, attrs in G_converted.nodes(data=True):\n",
    "    for attr_key, attr_value in attrs.items():\n",
    "        attrs[attr_key] = json.dumps(attr_value)\n",
    "\n",
    "nx.write_graphml(G_converted, GRAPH_FILE_PATH)"
   ]
  },
  {
   "cell_type": "code",
   "execution_count": null,
   "metadata": {},
   "outputs": [],
   "source": [
    "with open(POSTS_FILE_PATH, \"w\") as file:\n",
    "    json.dump(posts, file, indent=4, ensure_ascii=False)\n",
    "\n",
    "with open(POSTS_VIEW_FILE_PATH, \"w\") as file:\n",
    "    json.dump(posts_view, file, indent=4, ensure_ascii=False)"
   ]
  },
  {
   "cell_type": "markdown",
   "metadata": {},
   "source": [
    "Check loading\n",
    "\n",
    "NOTE: keys from dict from int transform into str after loading"
   ]
  },
  {
   "cell_type": "code",
   "execution_count": null,
   "metadata": {},
   "outputs": [],
   "source": [
    "from yadbil.graph.io import load_resources\n",
    "\n",
    "GRAPH_FILE_PATH = \"data/filtered_graph.graphml\"\n",
    "POSTS_FILE_PATH = \"data/posts.json\"\n",
    "POSTS_VIEW_FILE_PATH = \"data/posts_view.json\"\n",
    "\n",
    "G_filtered_2, posts_2, posts_view_2 = load_resources(\n",
    "    GRAPH_FILE_PATH, POSTS_FILE_PATH, POSTS_VIEW_FILE_PATH\n",
    ")"
   ]
  },
  {
   "cell_type": "code",
   "execution_count": null,
   "metadata": {},
   "outputs": [],
   "source": [
    "# G_filtered_2 == G_filtered\n",
    "# len(G_filtered_2), len(G_filtered)\n",
    "# len(G_filtered_2.edges), len(G_filtered.edges)\n",
    "# list(posts_view.values())[0][65]\n",
    "# list(posts_view_2.values())[0][\"65\"]"
   ]
  },
  {
   "cell_type": "code",
   "execution_count": null,
   "metadata": {},
   "outputs": [],
   "source": [
    "# Example usage\n",
    "post_id = 545  # Replace with the desired post ID\n",
    "top_n = 10  # Replace with the desired number of top similar posts\n",
    "\n",
    "similar_posts = find_similar_posts_pagerank(G_filtered_2, str(post_id), top_n)\n",
    "\n",
    "print(f\"Top {top_n} similar posts to post {post_id}:\")\n",
    "for post, score in similar_posts:\n",
    "    print(f\"Post ID: {post}, Similarity Score: {score:.4f}\")"
   ]
  }
 ],
 "metadata": {
  "kernelspec": {
   "display_name": "wot",
   "language": "python",
   "name": "python3"
  },
  "language_info": {
   "codemirror_mode": {
    "name": "ipython",
    "version": 3
   },
   "file_extension": ".py",
   "mimetype": "text/x-python",
   "name": "python",
   "nbconvert_exporter": "python",
   "pygments_lexer": "ipython3",
   "version": "3.9.18"
  }
 },
 "nbformat": 4,
 "nbformat_minor": 2
}
