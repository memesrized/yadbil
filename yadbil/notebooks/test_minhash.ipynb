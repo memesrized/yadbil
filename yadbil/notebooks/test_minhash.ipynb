{
 "cells": [
  {
   "cell_type": "code",
   "execution_count": null,
   "metadata": {},
   "outputs": [],
   "source": [
    "from datasketch import LeanMinHash, MinHash, MinHashLSH\n",
    "from nltk.util import ngrams\n",
    "\n",
    "from yadbil.data.telegram import TelegramDataProcessor"
   ]
  },
  {
   "cell_type": "code",
   "execution_count": null,
   "metadata": {},
   "outputs": [],
   "source": [
    "INPUT_DATA = \"data/result.json\"\n",
    "\n",
    "GRAPH_FILE_PATH = \"data/filtered_graph.graphml\"\n",
    "POSTS_FILE_PATH = \"data/posts.json\"\n",
    "POSTS_VIEW_FILE_PATH = \"data/posts_view.json\""
   ]
  },
  {
   "cell_type": "markdown",
   "metadata": {},
   "source": [
    "Data processing"
   ]
  },
  {
   "cell_type": "code",
   "execution_count": null,
   "metadata": {},
   "outputs": [],
   "source": [
    "# TODO: filter on len(text_no_link)<30\n",
    "# TODO: feature for ui, to show posts close in timeline for the channel\n",
    "tg_data_proc = TelegramDataProcessor(INPUT_DATA).process_posts()\n",
    "posts = tg_data_proc.posts\n",
    "posts_view = tg_data_proc.posts_view"
   ]
  },
  {
   "cell_type": "code",
   "execution_count": null,
   "metadata": {},
   "outputs": [],
   "source": [
    "words_posts = [set(x[\"stemmed_words\"]) for x in posts]"
   ]
  },
  {
   "cell_type": "code",
   "execution_count": null,
   "metadata": {},
   "outputs": [],
   "source": [
    "def apply_char_ngrams(words, n):\n",
    "    ngram_set = set()\n",
    "    for word in words:\n",
    "        if len(word) < n:\n",
    "            ngram_set.add(word)\n",
    "            continue\n",
    "        char_ngrams = [\"\".join(gram) for gram in ngrams(word, n)]\n",
    "        ngram_set.update(char_ngrams)\n",
    "    return ngram_set"
   ]
  },
  {
   "cell_type": "code",
   "execution_count": null,
   "metadata": {},
   "outputs": [],
   "source": [
    "threegrams_posts = [apply_char_ngrams(x, 4) for x in words_posts]"
   ]
  },
  {
   "cell_type": "code",
   "execution_count": null,
   "metadata": {},
   "outputs": [],
   "source": [
    "def minhash_from_set(set_, num_perm=128):\n",
    "    m = MinHash(num_perm=num_perm)\n",
    "    m.update_batch([x.encode(\"utf8\") for x in set_])\n",
    "    return LeanMinHash(m)\n",
    "\n",
    "\n",
    "# TODO: add proper id\n",
    "def minhashlsh_from_iterable(minhashes, threshold=0.5, num_perm=128):\n",
    "    lsh = MinHashLSH(threshold=threshold, num_perm=num_perm)\n",
    "    for i, x in enumerate(minhashes):\n",
    "        lsh.insert(f\"{i}\", x)\n",
    "    return lsh"
   ]
  },
  {
   "cell_type": "code",
   "execution_count": null,
   "metadata": {},
   "outputs": [],
   "source": [
    "minhashes = [minhash_from_set(x, num_perm=256) for x in threegrams_posts]\n",
    "\n",
    "# Create LSH index\n",
    "lsh = minhashlsh_from_iterable(minhashes=minhashes, threshold=0.7, num_perm=256)\n",
    "\n",
    "# result = lsh.query(minhashes[100])\n",
    "# print(\"Approximate neighbours with Jaccard similarity > 0.5\", result)"
   ]
  },
  {
   "cell_type": "code",
   "execution_count": null,
   "metadata": {},
   "outputs": [],
   "source": [
    "from tqdm.auto import tqdm\n",
    "\n",
    "\n",
    "for i, x in tqdm(enumerate(minhashes)):\n",
    "    result = lsh.query(x)\n",
    "    if len(result) > 1:\n",
    "        print(i, \"-\", result)"
   ]
  },
  {
   "cell_type": "code",
   "execution_count": null,
   "metadata": {},
   "outputs": [],
   "source": [
    "posts_texts = [p[\"text\"] for p in posts]"
   ]
  },
  {
   "cell_type": "code",
   "execution_count": null,
   "metadata": {},
   "outputs": [],
   "source": [
    "print(posts_texts[356])"
   ]
  },
  {
   "cell_type": "code",
   "execution_count": null,
   "metadata": {},
   "outputs": [],
   "source": [
    "print(posts_texts[357])"
   ]
  }
 ],
 "metadata": {
  "kernelspec": {
   "display_name": "wot",
   "language": "python",
   "name": "python3"
  },
  "language_info": {
   "codemirror_mode": {
    "name": "ipython",
    "version": 3
   },
   "file_extension": ".py",
   "mimetype": "text/x-python",
   "name": "python",
   "nbconvert_exporter": "python",
   "pygments_lexer": "ipython3",
   "version": "3.9.18"
  }
 },
 "nbformat": 4,
 "nbformat_minor": 2
}
